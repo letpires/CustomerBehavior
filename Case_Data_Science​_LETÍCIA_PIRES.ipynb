{
  "nbformat": 4,
  "nbformat_minor": 0,
  "metadata": {
    "colab": {
      "name": "Case - Data Science​ - LETÍCIA PIRES.ipynb",
      "provenance": [],
      "authorship_tag": "ABX9TyPV34X7nkHQCY/UnRXr11Jd",
      "include_colab_link": true
    },
    "kernelspec": {
      "name": "python3",
      "display_name": "Python 3"
    },
    "language_info": {
      "name": "python"
    }
  },
  "cells": [
    {
      "cell_type": "markdown",
      "metadata": {
        "id": "view-in-github",
        "colab_type": "text"
      },
      "source": [
        "<a href=\"https://colab.research.google.com/github/letpires/CustomerBehavior/blob/main/Case_Data_Science%E2%80%8B_LET%C3%8DCIA_PIRES.ipynb\" target=\"_parent\"><img src=\"https://colab.research.google.com/assets/colab-badge.svg\" alt=\"Open In Colab\"/></a>"
      ]
    },
    {
      "cell_type": "code",
      "execution_count": null,
      "metadata": {
        "id": "RGkA5oUat9hV"
      },
      "outputs": [],
      "source": [
        ""
      ]
    }
  ]
}